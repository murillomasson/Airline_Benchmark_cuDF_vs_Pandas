{
  "metadata": {
    "kernelspec": {
      "name": "python3",
      "display_name": "Python 3",
      "language": "python"
    },
    "language_info": {
      "name": "python",
      "version": "3.10.14",
      "mimetype": "text/x-python",
      "codemirror_mode": {
        "name": "ipython",
        "version": 3
      },
      "pygments_lexer": "ipython3",
      "nbconvert_exporter": "python",
      "file_extension": ".py"
    },
    "jupytext": {
      "cell_metadata_filter": "eval,name,tags,-all",
      "main_language": "R",
      "notebook_metadata_filter": "-all"
    },
    "colab": {
      "provenance": [],
      "name": "TP2-procAltoDesemp-UFRGS"
    },
    "kaggle": {
      "accelerator": "nvidiaTeslaT4",
      "dataSources": [
        {
          "sourceId": 1130687,
          "sourceType": "datasetVersion",
          "datasetId": 635943
        },
        {
          "sourceId": 2634090,
          "sourceType": "datasetVersion",
          "datasetId": 1601737
        },
        {
          "sourceId": 9984455,
          "sourceType": "datasetVersion",
          "datasetId": 6144238
        }
      ],
      "dockerImageVersionId": 30804,
      "isInternetEnabled": true,
      "language": "python",
      "sourceType": "notebook",
      "isGpuEnabled": true
    }
  },
  "nbformat_minor": 5,
  "nbformat": 4,
  "cells": [
    {
      "source": [
        "# IMPORTANT: RUN THIS CELL IN ORDER TO IMPORT YOUR KAGGLE DATA SOURCES,\n",
        "# THEN FEEL FREE TO DELETE THIS CELL.\n",
        "# NOTE: THIS NOTEBOOK ENVIRONMENT DIFFERS FROM KAGGLE'S PYTHON\n",
        "# ENVIRONMENT SO THERE MAY BE MISSING LIBRARIES USED BY YOUR\n",
        "# NOTEBOOK.\n",
        "import kagglehub\n",
        "miguelcorraljr_ted_ultimate_dataset_path = kagglehub.dataset_download('miguelcorraljr/ted-ultimate-dataset')\n",
        "mitchellodili_carrierscsv_path = kagglehub.dataset_download('mitchellodili/carrierscsv')\n",
        "gtun304_dataexpo1987_path = kagglehub.dataset_download('gtun304/dataexpo1987')\n",
        "\n",
        "print('Data source import complete.')\n"
      ],
      "metadata": {
        "id": "lpy_FW2a1xm1"
      },
      "cell_type": "code",
      "outputs": [],
      "execution_count": null,
      "id": "lpy_FW2a1xm1"
    },
    {
      "id": "208e919a-728e-4596-ada0-7e553bcdcc88",
      "cell_type": "code",
      "source": [
        "!pip install cudf dask-cudf \\\n",
        "    --extra-index-url=https://pypi.nvidia.com"
      ],
      "metadata": {
        "trusted": true,
        "execution": {
          "iopub.status.busy": "2024-12-12T02:54:12.934434Z",
          "iopub.execute_input": "2024-12-12T02:54:12.934816Z",
          "iopub.status.idle": "2024-12-12T02:54:17.770689Z",
          "shell.execute_reply.started": "2024-12-12T02:54:12.934786Z",
          "shell.execute_reply": "2024-12-12T02:54:17.769882Z"
        },
        "collapsed": true,
        "jupyter": {
          "outputs_hidden": true
        },
        "id": "208e919a-728e-4596-ada0-7e553bcdcc88",
        "outputId": "72ededc8-c28f-49da-8bdc-dec1d99765eb"
      },
      "outputs": [
        {
          "name": "stdout",
          "text": "Looking in indexes: https://pypi.org/simple, https://pypi.nvidia.com\nRequirement already satisfied: cudf in /opt/conda/lib/python3.10/site-packages (24.10.1)\nRequirement already satisfied: dask-cudf in /opt/conda/lib/python3.10/site-packages (24.10.1)\nRequirement already satisfied: cachetools in /opt/conda/lib/python3.10/site-packages (from cudf) (4.2.4)\nINFO: pip is looking at multiple versions of cudf to determine which version is compatible with other requirements. This could take a while.\nCollecting cudf\n  Downloading cudf-0.6.1.post1.tar.gz (1.1 kB)\n  Preparing metadata (setup.py) ... \u001b[?25ldone\n\u001b[?25hCollecting cupy-cuda11x>=12.0.0 (from dask-cudf)\n  Downloading cupy_cuda11x-13.3.0-cp310-cp310-manylinux2014_x86_64.whl.metadata (2.7 kB)\nRequirement already satisfied: fsspec>=0.6.0 in /opt/conda/lib/python3.10/site-packages (from dask-cudf) (2024.6.0)\nRequirement already satisfied: numpy<3.0a0,>=1.23 in /opt/conda/lib/python3.10/site-packages (from dask-cudf) (1.26.4)\nCollecting pandas<2.2.3dev0,>=2.0 (from dask-cudf)\n  Downloading pandas-2.2.2-cp310-cp310-manylinux_2_17_x86_64.manylinux2014_x86_64.whl.metadata (19 kB)\nRequirement already satisfied: rapids-dask-dependency==24.10.* in /opt/conda/lib/python3.10/site-packages (from dask-cudf) (24.10.0a0)\n\u001b[31mERROR: Could not find a version that satisfies the requirement cubinlinker (from cudf) (from versions: none)\u001b[0m\u001b[31m\n\u001b[0m\u001b[31mERROR: No matching distribution found for cubinlinker\u001b[0m\u001b[31m\n\u001b[0m",
          "output_type": "stream"
        }
      ],
      "execution_count": null
    },
    {
      "id": "b0d825cf-7721-4a54-ba7a-79afebabaeee",
      "cell_type": "code",
      "source": [
        "!pip install --upgrade dask distributed\n"
      ],
      "metadata": {
        "trusted": true,
        "execution": {
          "iopub.status.busy": "2024-12-12T02:54:28.978921Z",
          "iopub.execute_input": "2024-12-12T02:54:28.979234Z",
          "iopub.status.idle": "2024-12-12T02:54:40.91921Z",
          "shell.execute_reply.started": "2024-12-12T02:54:28.979207Z",
          "shell.execute_reply": "2024-12-12T02:54:40.918069Z"
        },
        "collapsed": true,
        "jupyter": {
          "outputs_hidden": true
        },
        "id": "b0d825cf-7721-4a54-ba7a-79afebabaeee",
        "outputId": "354cb98e-5202-4544-a353-0f4e7bfb77fa"
      },
      "outputs": [
        {
          "name": "stdout",
          "text": "Requirement already satisfied: dask in /opt/conda/lib/python3.10/site-packages (2024.11.2)\nCollecting dask\n  Downloading dask-2024.12.0-py3-none-any.whl.metadata (3.7 kB)\nRequirement already satisfied: distributed in /opt/conda/lib/python3.10/site-packages (2024.9.0)\nCollecting distributed\n  Downloading distributed-2024.12.0-py3-none-any.whl.metadata (3.3 kB)\nRequirement already satisfied: click>=8.1 in /opt/conda/lib/python3.10/site-packages (from dask) (8.1.7)\nRequirement already satisfied: cloudpickle>=3.0.0 in /opt/conda/lib/python3.10/site-packages (from dask) (3.1.0)\nRequirement already satisfied: fsspec>=2021.09.0 in /opt/conda/lib/python3.10/site-packages (from dask) (2024.6.0)\nRequirement already satisfied: packaging>=20.0 in /opt/conda/lib/python3.10/site-packages (from dask) (21.3)\nRequirement already satisfied: partd>=1.4.0 in /opt/conda/lib/python3.10/site-packages (from dask) (1.4.2)\nRequirement already satisfied: pyyaml>=5.3.1 in /opt/conda/lib/python3.10/site-packages (from dask) (6.0.2)\nRequirement already satisfied: toolz>=0.10.0 in /opt/conda/lib/python3.10/site-packages (from dask) (0.12.1)\nRequirement already satisfied: importlib_metadata>=4.13.0 in /opt/conda/lib/python3.10/site-packages (from dask) (7.0.0)\nRequirement already satisfied: jinja2>=2.10.3 in /opt/conda/lib/python3.10/site-packages (from distributed) (3.1.4)\nRequirement already satisfied: locket>=1.0.0 in /opt/conda/lib/python3.10/site-packages (from distributed) (1.0.0)\nRequirement already satisfied: msgpack>=1.0.2 in /opt/conda/lib/python3.10/site-packages (from distributed) (1.0.8)\nRequirement already satisfied: psutil>=5.8.0 in /opt/conda/lib/python3.10/site-packages (from distributed) (5.9.3)\nRequirement already satisfied: sortedcontainers>=2.0.5 in /opt/conda/lib/python3.10/site-packages (from distributed) (2.4.0)\nRequirement already satisfied: tblib>=1.6.0 in /opt/conda/lib/python3.10/site-packages (from distributed) (3.0.0)\nRequirement already satisfied: tornado>=6.2.0 in /opt/conda/lib/python3.10/site-packages (from distributed) (6.4.1)\nRequirement already satisfied: urllib3>=1.26.5 in /opt/conda/lib/python3.10/site-packages (from distributed) (1.26.18)\nRequirement already satisfied: zict>=3.0.0 in /opt/conda/lib/python3.10/site-packages (from distributed) (3.0.0)\nRequirement already satisfied: zipp>=0.5 in /opt/conda/lib/python3.10/site-packages (from importlib_metadata>=4.13.0->dask) (3.19.2)\nRequirement already satisfied: MarkupSafe>=2.0 in /opt/conda/lib/python3.10/site-packages (from jinja2>=2.10.3->distributed) (2.1.5)\nRequirement already satisfied: pyparsing!=3.0.5,>=2.0.2 in /opt/conda/lib/python3.10/site-packages (from packaging>=20.0->dask) (3.1.2)\nDownloading dask-2024.12.0-py3-none-any.whl (1.3 MB)\n\u001b[2K   \u001b[90m━━━━━━━━━━━━━━━━━━━━━━━━━━━━━━━━━━━━━━━━\u001b[0m \u001b[32m1.3/1.3 MB\u001b[0m \u001b[31m17.7 MB/s\u001b[0m eta \u001b[36m0:00:00\u001b[0m00:01\u001b[0m00:01\u001b[0m\n\u001b[?25hDownloading distributed-2024.12.0-py3-none-any.whl (1.0 MB)\n\u001b[2K   \u001b[90m━━━━━━━━━━━━━━━━━━━━━━━━━━━━━━━━━━━━━━━━\u001b[0m \u001b[32m1.0/1.0 MB\u001b[0m \u001b[31m47.4 MB/s\u001b[0m eta \u001b[36m0:00:00\u001b[0m\n\u001b[?25hInstalling collected packages: dask, distributed\n  Attempting uninstall: dask\n    Found existing installation: dask 2024.11.2\n    Uninstalling dask-2024.11.2:\n      Successfully uninstalled dask-2024.11.2\n  Attempting uninstall: distributed\n    Found existing installation: distributed 2024.9.0\n    Uninstalling distributed-2024.9.0:\n      Successfully uninstalled distributed-2024.9.0\n\u001b[31mERROR: pip's dependency resolver does not currently take into account all the packages that are installed. This behaviour is the source of the following dependency conflicts.\ncesium 0.12.3 requires numpy<3.0,>=2.0, but you have numpy 1.26.4 which is incompatible.\ndask-expr 1.1.19 requires dask==2024.11.2, but you have dask 2024.12.0 which is incompatible.\nrapids-dask-dependency 24.10.0a0 requires dask==2024.9.0, but you have dask 2024.12.0 which is incompatible.\nrapids-dask-dependency 24.10.0a0 requires dask-expr==1.1.14, but you have dask-expr 1.1.19 which is incompatible.\nrapids-dask-dependency 24.10.0a0 requires distributed==2024.9.0, but you have distributed 2024.12.0 which is incompatible.\u001b[0m\u001b[31m\n\u001b[0mSuccessfully installed dask-2024.12.0 distributed-2024.12.0\n",
          "output_type": "stream"
        }
      ],
      "execution_count": null
    },
    {
      "id": "48edadc7-2565-4b4d-bcc0-2e27a3023c48",
      "cell_type": "code",
      "source": [
        "import cudf\n",
        "import dask_cudf\n",
        "import pandas as pd\n",
        "import dask.dataframe as dd\n",
        "import time\n",
        "import os\n",
        "from dask_cuda import LocalCUDACluster\n",
        "from dask.distributed import Client, wait\n",
        "\n",
        "try:\n",
        "    client.close()\n",
        "    cluster.close()\n",
        "except:\n",
        "    pass\n",
        "\n",
        "cluster = LocalCUDACluster(dashboard_address=\":8791\", n_workers=2, threads_per_worker=1, memory_limit='20GB')\n",
        "client = Client(cluster)\n",
        "print(client)\n",
        "\n",
        "!nvidia-smi || echo \"nvidia-smi falhou\""
      ],
      "metadata": {
        "trusted": true,
        "execution": {
          "iopub.status.busy": "2024-12-12T02:54:51.775549Z",
          "iopub.execute_input": "2024-12-12T02:54:51.775844Z",
          "iopub.status.idle": "2024-12-12T02:54:56.565923Z",
          "shell.execute_reply.started": "2024-12-12T02:54:51.775818Z",
          "shell.execute_reply": "2024-12-12T02:54:56.564802Z"
        },
        "id": "48edadc7-2565-4b4d-bcc0-2e27a3023c48",
        "outputId": "7481b388-0d93-4b8e-b1a6-508ca3ce7fea"
      },
      "outputs": [
        {
          "name": "stdout",
          "text": "<Client: 'tcp://127.0.0.1:43799' processes=2 threads=2, memory=37.25 GiB>\nThu Dec 12 02:54:56 2024       \n+-----------------------------------------------------------------------------------------+\n| NVIDIA-SMI 560.35.03              Driver Version: 560.35.03      CUDA Version: 12.6     |\n|-----------------------------------------+------------------------+----------------------+\n| GPU  Name                 Persistence-M | Bus-Id          Disp.A | Volatile Uncorr. ECC |\n| Fan  Temp   Perf          Pwr:Usage/Cap |           Memory-Usage | GPU-Util  Compute M. |\n|                                         |                        |               MIG M. |\n|=========================================+========================+======================|\n|   0  Tesla T4                       Off |   00000000:00:04.0 Off |                    0 |\n| N/A   41C    P8              9W /   70W |       3MiB /  15360MiB |      0%      Default |\n|                                         |                        |                  N/A |\n+-----------------------------------------+------------------------+----------------------+\n|   1  Tesla T4                       Off |   00000000:00:05.0 Off |                    0 |\n| N/A   42C    P8              9W /   70W |       3MiB /  15360MiB |      0%      Default |\n|                                         |                        |                  N/A |\n+-----------------------------------------+------------------------+----------------------+\n                                                                                         \n+-----------------------------------------------------------------------------------------+\n| Processes:                                                                              |\n|  GPU   GI   CI        PID   Type   Process name                              GPU Memory |\n|        ID   ID                                                               Usage      |\n|=========================================================================================|\n|  No running processes found                                                             |\n+-----------------------------------------------------------------------------------------+\n",
          "output_type": "stream"
        }
      ],
      "execution_count": null
    },
    {
      "id": "9147fe29-4757-4bf8-8253-7c53455b5101",
      "cell_type": "code",
      "source": [
        "flights_file = \"/kaggle/input/dataexpo1987/1987.csv\"\n",
        "carriers_file = \"/kaggle/input/carrierscsv/carriers.csv\"\n",
        "esquema = {\n",
        "    \"Year\": \"int64\",\n",
        "    \"Month\": \"int64\",\n",
        "    \"DayofMonth\": \"int64\",\n",
        "    \"DayOfWeek\": \"int64\",\n",
        "    \"DepTime\": \"float64\",\n",
        "    \"CRSDepTime\": \"float64\",\n",
        "    \"ArrTime\": \"float64\",\n",
        "    \"CRSArrTime\": \"float64\",\n",
        "    \"UniqueCarrier\": \"str\",\n",
        "    \"FlightNum\": \"int64\",\n",
        "    \"TailNum\": \"str\",\n",
        "    \"ActualElapsedTime\": \"float64\",\n",
        "    \"CRSElapsedTime\": \"float64\",\n",
        "    \"AirTime\": \"float64\",\n",
        "    \"ArrDelay\": \"float64\",\n",
        "    \"DepDelay\": \"float64\",\n",
        "    \"Origin\": \"str\",\n",
        "    \"Dest\": \"str\",\n",
        "    \"Distance\": \"float64\",\n",
        "    \"TaxiIn\": \"float64\",\n",
        "    \"TaxiOut\": \"float64\",\n",
        "    \"Cancelled\": \"bool\",\n",
        "    \"CancellationCode\": \"str\",\n",
        "    \"Diverted\": \"bool\",\n",
        "    \"CarrierDelay\": \"float64\",\n",
        "    \"WeatherDelay\": \"float64\",\n",
        "    \"NASDelay\": \"float64\",\n",
        "    \"SecurityDelay\": \"float64\",\n",
        "    \"LateAircraftDelay\": \"float64\"\n",
        "}\n",
        "\n"
      ],
      "metadata": {
        "trusted": true,
        "execution": {
          "iopub.status.busy": "2024-12-12T02:55:03.404724Z",
          "iopub.execute_input": "2024-12-12T02:55:03.406943Z",
          "iopub.status.idle": "2024-12-12T02:55:03.412974Z",
          "shell.execute_reply.started": "2024-12-12T02:55:03.406896Z",
          "shell.execute_reply": "2024-12-12T02:55:03.412042Z"
        },
        "id": "9147fe29-4757-4bf8-8253-7c53455b5101"
      },
      "outputs": [],
      "execution_count": null
    },
    {
      "id": "6fa9f631-29c4-4b34-ab9d-22653f5c019f",
      "cell_type": "code",
      "source": [
        "flights_dask = dd.read_csv(flights_file, dtype=esquema, blocksize=5e6)\n",
        "flights_cudf = cudf.read_csv(flights_file)\n",
        "carriers = cudf.read_csv(carriers_file)\n",
        "\n",
        "def measure_time(func, *args):\n",
        "    start_time = time.time()\n",
        "    result = func(*args)\n",
        "    end_time = time.time()\n",
        "    return result, end_time - start_time\n",
        "\n",
        "def max_arr_delay_cudf(df):\n",
        "    return df[df[\"Cancelled\"] == False].groupby(\"UniqueCarrier\")[\"ArrDelay\"].max().nlargest(1).index[0]\n",
        "\n",
        "def most_flights_day_cudf(df):\n",
        "    return df[df[\"Cancelled\"] == False].groupby(\"DayOfWeek\").size().nlargest(1).index[0]\n",
        "\n",
        "def most_cancellations_cudf(df):\n",
        "    return df[df[\"Cancelled\"] == True].groupby(\"UniqueCarrier\").size().nlargest(1).index[0]\n",
        "\n",
        "def most_miles_cudf(df):\n",
        "    return df[df[\"Cancelled\"] == False].groupby(\"UniqueCarrier\")[\"Distance\"].sum().nlargest(1).index[0]\n",
        "\n",
        "def most_recovery_cudf(df):\n",
        "    df[\"Recovery\"] = df[\"DepDelay\"] - df[\"ArrDelay\"]\n",
        "    return df[df[\"Cancelled\"] == False].groupby(\"UniqueCarrier\")[\"Recovery\"].sum().nlargest(1).index[0]\n",
        "\n",
        "def growth_flights_cudf(df):\n",
        "    return df[df[\"Cancelled\"] == False].groupby(\"Year\").size()\n",
        "\n",
        "def cancellations_by_month_cudf(df):\n",
        "    return df[df[\"Cancelled\"] == True].groupby(\"Month\").size()\n",
        "\n",
        "def cancel_percent_cudf(df):\n",
        "    flights_by_month = df.groupby(\"Month\").size()\n",
        "    cancellations = df[df[\"Cancelled\"] == True].groupby(\"Month\").size()\n",
        "    return (cancellations / flights_by_month) * 100\n",
        "\n",
        "def max_arr_delay_pd(df):\n",
        "    return df[df[\"Cancelled\"] == False].groupby(\"UniqueCarrier\")[\"ArrDelay\"].max().idxmax()\n",
        "\n",
        "def most_flights_day_pd(df):\n",
        "    return df[df[\"Cancelled\"] == False].groupby(\"DayOfWeek\").size().idxmax()\n",
        "\n",
        "def most_cancellations_pd(df):\n",
        "    return df[df[\"Cancelled\"] == True].groupby(\"UniqueCarrier\").size().idxmax()\n",
        "\n",
        "def most_miles_pd(df):\n",
        "    return df[df[\"Cancelled\"] == False].groupby(\"UniqueCarrier\")[\"Distance\"].sum().idxmax()\n",
        "\n",
        "def most_recovery_pd(df):\n",
        "    df[\"Recovery\"] = df[\"DepDelay\"] - df[\"ArrDelay\"]\n",
        "    return df[df[\"Cancelled\"] == False].groupby(\"UniqueCarrier\")[\"Recovery\"].sum().idxmax()\n",
        "\n",
        "def growth_flights_pd(df):\n",
        "    return df[df[\"Cancelled\"] == False].groupby(\"Year\").size()\n",
        "\n",
        "def cancellations_by_month_pd(df):\n",
        "    return df[df[\"Cancelled\"] == True].groupby(\"Month\").size()\n",
        "\n",
        "def cancel_percent_pd(df):\n",
        "    flights_by_month = df.groupby(\"Month\").size()\n",
        "    cancellations = df[df[\"Cancelled\"] == True].groupby(\"Month\").size()\n",
        "    return (cancellations / flights_by_month) * 100\n",
        "\n",
        "def compare_execution_times():\n",
        "    try:\n",
        "        flights_pd = flights_dask.compute()\n",
        "        print(\"Operação compute foi bem-sucedida.\")\n",
        "    except Exception as e:\n",
        "        print(f\"Erro na operação compute: {e}\")\n",
        "        return\n",
        "\n",
        "    functions_cudf = [\n",
        "        (\"Maior atraso de chegada\", max_arr_delay_cudf),\n",
        "        (\"Dia com mais vôos\", most_flights_day_cudf),\n",
        "        (\"Maior número de cancelamentos\", most_cancellations_cudf),\n",
        "        (\"Mais milhas voadas\", most_miles_cudf),\n",
        "        (\"Melhor recuperação de atrasos\", most_recovery_cudf),\n",
        "        (\"Crescimento no número de vôos\", growth_flights_cudf),\n",
        "        (\"Cancelamentos por mês\", cancellations_by_month_cudf),\n",
        "        (\"Cancelamentos em relação aos vôos mensais\", cancel_percent_cudf)\n",
        "    ]\n",
        "\n",
        "    functions_pd = [\n",
        "        (\"Maior atraso de chegada\", max_arr_delay_pd),\n",
        "        (\"Dia com mais vôos\", most_flights_day_pd),\n",
        "        (\"Maior número de cancelamentos\", most_cancellations_pd),\n",
        "        (\"Mais milhas voadas\", most_miles_pd),\n",
        "        (\"Melhor recuperação de atrasos\", most_recovery_pd),\n",
        "        (\"Crescimento no número de vôos\", growth_flights_pd),\n",
        "        (\"Cancelamentos por mês\", cancellations_by_month_pd),\n",
        "        (\"Cancelamentos em relação aos vôos mensais\", cancel_percent_pd)\n",
        "    ]\n",
        "\n",
        "    print(\"Comparação de tempos de execução entre cudf e pandas:\")\n",
        "    for ((desc_cudf, func_cudf), (desc_pd, func_pd)) in zip(functions_cudf, functions_pd):\n",
        "        result_cudf, time_cudf = measure_time(func_cudf, flights_cudf)\n",
        "        result_pd, time_pd = measure_time(func_pd, flights_pd)\n",
        "        print(f\"{desc_cudf}:\")\n",
        "        print(f\"  cudf: {result_cudf} (Tempo de execução: {time_cudf:.4f} segundos)\")\n",
        "        print(f\"  pandas: {result_pd} (Tempo de execução: {time_pd:.4f} segundos)\")\n",
        "\n"
      ],
      "metadata": {
        "trusted": true,
        "execution": {
          "iopub.status.busy": "2024-12-12T02:55:51.652077Z",
          "iopub.execute_input": "2024-12-12T02:55:51.652402Z",
          "iopub.status.idle": "2024-12-12T02:55:53.954613Z",
          "shell.execute_reply.started": "2024-12-12T02:55:51.652372Z",
          "shell.execute_reply": "2024-12-12T02:55:53.953919Z"
        },
        "id": "6fa9f631-29c4-4b34-ab9d-22653f5c019f"
      },
      "outputs": [],
      "execution_count": null
    },
    {
      "id": "5d64f965-d0d9-4b35-a0fb-150442e15513",
      "cell_type": "code",
      "source": [
        "try:\n",
        "    client.get_versions(check=True)\n",
        "    print(\"Conexão com o scheduler bem-sucedida.\")\n",
        "\n",
        "except Exception as e:\n",
        "    print(f\"Erro ao conectar ao scheduler: {e}\")\n",
        "\n",
        "compare_execution_times()\n"
      ],
      "metadata": {
        "trusted": true,
        "execution": {
          "iopub.status.busy": "2024-12-12T02:58:28.16141Z",
          "iopub.execute_input": "2024-12-12T02:58:28.162365Z",
          "iopub.status.idle": "2024-12-12T02:58:40.746291Z",
          "shell.execute_reply.started": "2024-12-12T02:58:28.162296Z",
          "shell.execute_reply": "2024-12-12T02:58:40.744981Z"
        },
        "id": "5d64f965-d0d9-4b35-a0fb-150442e15513",
        "outputId": "9e039b2c-a809-4b0c-bb1f-a58c3f032824"
      },
      "outputs": [
        {
          "name": "stdout",
          "text": "Conexão com o scheduler bem-sucedida.\nOperação compute foi bem-sucedida.\nComparação de tempos de execução entre cudf e pandas:\nMaior atraso de chegada:\n  cudf: PS (Tempo de execução: 0.2498 segundos)\n  pandas: PS (Tempo de execução: 0.3444 segundos)\nDia com mais vôos:\n  cudf: 4 (Tempo de execução: 0.0627 segundos)\n  pandas: 4 (Tempo de execução: 0.2619 segundos)\nMaior número de cancelamentos:\n  cudf: UA (Tempo de execução: 0.0180 segundos)\n  pandas: UA (Tempo de execução: 0.0160 segundos)\nMais milhas voadas:\n  cudf: AA (Tempo de execução: 0.0375 segundos)\n  pandas: AA (Tempo de execução: 0.3226 segundos)\nMelhor recuperação de atrasos:\n  cudf: CO (Tempo de execução: 0.0526 segundos)\n  pandas: CO (Tempo de execução: 0.3279 segundos)\nCrescimento no número de vôos:\n  cudf: Year\n1987    1292141\ndtype: int64 (Tempo de execução: 0.0389 segundos)\n  pandas: Year\n1987    1292141\ndtype: int64 (Tempo de execução: 0.2809 segundos)\nCancelamentos por mês:\n  cudf: Month\n11     5191\n10     3001\n12    11493\ndtype: int64 (Tempo de execução: 0.0120 segundos)\n  pandas: Month\n10     3001\n11     5191\n12    11493\ndtype: int64 (Tempo de execução: 0.0162 segundos)\nCancelamentos em relação aos vôos mensais:\n  cudf: Month\n10    0.668940\n11    1.227759\n12    2.609655\ndtype: float64 (Tempo de execução: 0.1068 segundos)\n  pandas: Month\n10    0.668940\n11    1.227759\n12    2.609655\ndtype: float64 (Tempo de execução: 0.0459 segundos)\n",
          "output_type": "stream"
        }
      ],
      "execution_count": null
    },
    {
      "id": "76c40eec-ea9a-4b2c-a72b-fda05d427fc2",
      "cell_type": "markdown",
      "source": [
        "A comparação entre cuDF e Pandas evidencia que o cuDF oferece vantagens significativas.. No entanto, a configuração do cuDF foi bastante desafiadora, gerando inúmeros erros ao longo do processo, desde incompatibilidades de versões até ajustes específicos no código. Apesar do esforço adicional para sua implementação, os ganhos em escalabilidade e tempo de execução demonstram que a ferramenta é eficiente em cenários de grande volume de dados, embora exija mais conhecimento técnico e tempo para configuração inicial.\n",
        "\n",
        "\n",
        "- **Maior atraso de chegada:** cuDF foi cerca de 38% mais rápido (0.2498s contra 0.3444s).\n",
        "- **Dia com mais voos:** cuDF apresentou uma vantagem significativa, sendo aproximadamente 76% mais rápido (0.0627s contra 0.2619s).\n",
        "- **Maior número de cancelamentos:** Pandas foi ligeiramente mais rápido, mas a diferença foi insignificante (0.0180s contra 0.0160s).\n",
        "- **Mais milhas voadas:** cuDF teve um desempenho substancialmente superior, com uma redução de ~88% no tempo (0.0375s contra 0.3226s).\n",
        "- **Melhor recuperação de atrasos:** cuDF foi cerca de 84% mais rápido (0.0526s contra 0.3279s).\n",
        "- **Crescimento no número de voos:** cuDF foi consideravelmente mais eficiente, com ~86% de redução no tempo (0.0389s contra 0.2809s).\n",
        "- **Cancelamentos por mês:** cuDF foi levemente mais rápido, com uma redução de ~26% no tempo (0.0120s contra 0.0162s).\n",
        "- **Cancelamentos/vôos mensais:** Pandas foi mais eficiente nesta tarefa, sendo cerca de 57% mais rápido (0.1068s contra 0.0459s).\n"
      ],
      "metadata": {
        "id": "76c40eec-ea9a-4b2c-a72b-fda05d427fc2"
      }
    }
  ]
}